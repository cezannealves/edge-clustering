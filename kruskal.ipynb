{
 "cells": [
  {
   "cell_type": "code",
   "execution_count": 1,
   "metadata": {},
   "outputs": [
    {
     "name": "stdout",
     "output_type": "stream",
     "text": [
      "[NbConvertApp] Converting notebook union_find.ipynb to script\n",
      "[NbConvertApp] Writing 1760 bytes to union_find.py\n"
     ]
    }
   ],
   "source": [
    "from union_find import Partition\n",
    "\n",
    "class Kruskall:\n",
    "    def __init__(self, edges, nnodes, nsets=1):\n",
    "        \"\"\"Instantiates and run Kruskal's algorithm on a undirected graph, results ar accessible in the members of the class\n",
    "        \n",
    "        Arguments\n",
    "            nnodes: number of nodes in the graph\n",
    "            edges: edge list of the form [(w,(n1,n2))], node ids must be contiguous from 0 to \n",
    "                nnodes (exclusive). If it has (w,(n1,n2)) it can't have (w,(n2,n1)).\n",
    "            nsets: the number of MSTs to be left (if possible). If the graph has more connected components than \n",
    "        \n",
    "        Members\n",
    "            self.tree: edge list of a forest with the number of MSTs equal to 'nsets' or the number of\n",
    "            connected components of the given graph, whichever is biger.\n",
    "            self.cost: the cost of the MST\n",
    "            self.part: Partition of the set of nodes to its MST (  self.part[node_id]= MST_id)\n",
    "        \"\"\"\n",
    "        \n",
    "        self.cost=0\n",
    "        self.part = Partition(nnodes)\n",
    "        self.tree=[]\n",
    "    \n",
    "        # kruskal\n",
    "        edges=sorted(edges)\n",
    "        for e in edges:\n",
    "            if self.part.num_sets==nsets: break\n",
    "            \n",
    "            i,j = e[1], e[2]\n",
    "            if not self.part.same(i,j):\n",
    "                self.tree.append(e)\n",
    "                self.cost+=e[0]\n",
    "                self.part.union(i,j)"
   ]
  }
 ],
 "metadata": {
  "kernelspec": {
   "display_name": "Python 3",
   "language": "python",
   "name": "python3"
  },
  "language_info": {
   "codemirror_mode": {
    "name": "ipython",
    "version": 3
   },
   "file_extension": ".py",
   "mimetype": "text/x-python",
   "name": "python",
   "nbconvert_exporter": "python",
   "pygments_lexer": "ipython3",
   "version": "3.6.7"
  }
 },
 "nbformat": 4,
 "nbformat_minor": 2
}
