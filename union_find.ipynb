{
 "cells": [
  {
   "cell_type": "code",
   "execution_count": 1,
   "metadata": {
    "code_folding": []
   },
   "outputs": [],
   "source": [
    "class Partition:\n",
    "    \"\"\"Partition with efficient union and find operations, with link by rank and path compression\"\"\"\n",
    "    def __init__(self, size, starting_state=None):\n",
    "        self.num_sets=size\n",
    "        self._p = list(range(size)) if starting_state == None else starting_state\n",
    "        self.rank=[1]*size    #rank is an upper bound of height since it changes during path compression\n",
    "        \n",
    "        \n",
    "    def __getitem__(self, key):\n",
    "        return self.find(key)\n",
    "        \n",
    "        \n",
    "    def find(self, i):\n",
    "        \"\"\"returns the set containing i\"\"\"\n",
    "        if self._p[i]!=i:\n",
    "            self._p[i] = self.find(self._p[i]) # Path compression, doesn't update heigh\n",
    "            return self._p[i]\n",
    "        return i\n",
    "        \n",
    "        \n",
    "    def same(self, i, j):\n",
    "        \"\"\"test if i and j belong to the same set\"\"\"\n",
    "        return self.find(i) == self.find(j)\n",
    "    \n",
    "    \n",
    "    def union(self, i, j):\n",
    "        \"\"\"uninon of the sets containing i and j, if not in the same set already\"\"\"\n",
    "        if not self.same(i,j):\n",
    "            pi, pj = self.find(i), self.find(j)\n",
    "            if(self.rank[pi]>self.rank[pj]):\n",
    "                self._p[pj]=pi\n",
    "            else:\n",
    "                self._p[pi]=pj\n",
    "                if self.rank[pi]==self.rank[pj]: self.rank[pj]+=1\n",
    "            self.num_sets-=1\n",
    "    \n",
    "    def relabeled(self):\n",
    "        '''returns a relabeled version of the mapping, with set ids in the range [0:num_sets) '''\n",
    "        unique = list( {self.find(i) for i in range(len(self._p))} )\n",
    "        mapping=[0]*len(self._p)\n",
    "        for i in range(len(unique)):\n",
    "            mapping[unique[i]]=i\n",
    "        return [mapping[i] for i in self._p]"
   ]
  }
 ],
 "metadata": {
  "kernelspec": {
   "display_name": "Python 3",
   "language": "python",
   "name": "python3"
  },
  "language_info": {
   "codemirror_mode": {
    "name": "ipython",
    "version": 3
   },
   "file_extension": ".py",
   "mimetype": "text/x-python",
   "name": "python",
   "nbconvert_exporter": "python",
   "pygments_lexer": "ipython3",
   "version": "3.6.7"
  }
 },
 "nbformat": 4,
 "nbformat_minor": 2
}
