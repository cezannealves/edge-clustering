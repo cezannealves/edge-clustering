{
 "cells": [
  {
   "cell_type": "code",
   "execution_count": null,
   "metadata": {},
   "outputs": [],
   "source": [
    "def find_components(adj_list):\n",
    "    \"\"\"Returns the mapping of each node to its connected component in adj_list\"\"\"\n",
    "    \n",
    "    vis = [0]*len(adj_list)\n",
    "    comp = [0]*len(adj_list)\n",
    "    counter=0\n",
    "    p = []\n",
    "    \n",
    "    for i in range(len(adj_list)):\n",
    "        if not vis[i]:\n",
    "            p.append(i)\n",
    "            while (len(p)):\n",
    "                n=p.pop()\n",
    "                vis[n]=1\n",
    "                comp[n]=counter\n",
    "                for e in adj_list[n]:\n",
    "                    if not vis[e[2]]:\n",
    "                        p.append(e[2])\n",
    "            counter+=1\n",
    "    return comp"
   ]
  }
 ],
 "metadata": {
  "kernelspec": {
   "display_name": "Python 3",
   "language": "python",
   "name": "python3"
  },
  "language_info": {
   "codemirror_mode": {
    "name": "ipython",
    "version": 3
   },
   "file_extension": ".py",
   "mimetype": "text/x-python",
   "name": "python",
   "nbconvert_exporter": "python",
   "pygments_lexer": "ipython3",
   "version": "3.6.7"
  }
 },
 "nbformat": 4,
 "nbformat_minor": 2
}
