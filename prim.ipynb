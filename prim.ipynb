{
 "cells": [
  {
   "cell_type": "code",
   "execution_count": 1,
   "metadata": {},
   "outputs": [],
   "source": [
    "import heapq\n",
    "\n",
    "class Prim:\n",
    "    def __init__(self, adj_list, start_n=0):\n",
    "        \"\"\"Instantiate and run Prims's algorithm on a undirected graph, results are accessible in the members of the class\n",
    "        \n",
    "        Arguments\n",
    "            adj_list: adjacency list in the form [[(w,(n1,n2))]]\n",
    "            start_n=0: starting node for the algorithm\n",
    "        \n",
    "        Members\n",
    "            cost: the cost of the MST\n",
    "            tree_adj: the MST inf form of adjacency list\n",
    "            tree_edges: the MST inf form of edge list\n",
    "        \"\"\"\n",
    "        self.cost=0\n",
    "        self.tree_edges=[]\n",
    "        self.tree_adj=[[]for i in range(len(adj_list))]\n",
    "        \n",
    "        nnodes = len(adj_list)\n",
    "        taken = [0]*nnodes\n",
    "        ntaken = 0\n",
    "        q=[]\n",
    "        \n",
    "        def process(n): # inside __init__ because it needs its arguments\n",
    "            nonlocal taken, ntaken\n",
    "            taken[n]=1; ntaken+=1\n",
    "            for e in adj_list[n]:\n",
    "                if not taken[e[2]]:\n",
    "                    heapq.heappush(q, e)\n",
    "        \n",
    "        while(ntaken!=nnodes):          # this is to guarantee MST of all connected components\n",
    "            \n",
    "            process(start_n)\n",
    "            \n",
    "            while len(q)>0:\n",
    "                \n",
    "                e = heapq.heappop(q)\n",
    "                n=e[2]\n",
    "                \n",
    "                if not taken[n]:\n",
    "                    self.cost+=e[0]\n",
    "                    self.tree_edges.append(e)\n",
    "                    self.tree_adj[e[1]].append(e)\n",
    "                    self.tree_adj[e[2]].append((e[0], e[2], e[1]))\n",
    "                    process(n)\n",
    "                    \n",
    "            if ntaken!=nnodes:\n",
    "                start_n = taken.index(0)\n",
    "        "
   ]
  }
 ],
 "metadata": {
  "kernelspec": {
   "display_name": "Python 3",
   "language": "python",
   "name": "python3"
  },
  "language_info": {
   "codemirror_mode": {
    "name": "ipython",
    "version": 3
   },
   "file_extension": ".py",
   "mimetype": "text/x-python",
   "name": "python",
   "nbconvert_exporter": "python",
   "pygments_lexer": "ipython3",
   "version": "3.6.7"
  }
 },
 "nbformat": 4,
 "nbformat_minor": 2
}
